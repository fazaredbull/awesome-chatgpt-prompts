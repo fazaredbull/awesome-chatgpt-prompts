{
  "cells": [
    {
      "cell_type": "markdown",
      "id": "5a19abd0",
      "metadata": {
        "id": "5a19abd0"
      },
      "source": [
        "<a href=\"https://colab.research.google.com/github/run-llama/llama_index/blob/main/docs/docs/examples/chat_engine/chat_engine_personality.ipynb\" target=\"_parent\"><img src=\"https://colab.research.google.com/assets/colab-badge.svg\" alt=\"Open In Colab\"/></a>"
      ]
    },
    {
      "cell_type": "markdown",
      "id": "872e4a4f-e172-4e10-9e12-18d2057028bc",
      "metadata": {
        "id": "872e4a4f-e172-4e10-9e12-18d2057028bc"
      },
      "source": [
        "# Chat Engine with a Personality ✨"
      ]
    },
    {
      "cell_type": "markdown",
      "id": "24d82849",
      "metadata": {
        "id": "24d82849"
      },
      "source": [
        "If you're opening this Notebook on colab, you will probably need to install LlamaIndex 🦙."
      ]
    },
    {
      "cell_type": "code",
      "execution_count": null,
      "id": "35a02009",
      "metadata": {
        "id": "35a02009"
      },
      "outputs": [],
      "source": [
        "!pip install llama-index"
      ]
    },
    {
      "cell_type": "markdown",
      "id": "9fcf5c89-1972-444b-9607-20cfd4991b3b",
      "metadata": {
        "id": "9fcf5c89-1972-444b-9607-20cfd4991b3b"
      },
      "source": [
        "## Default"
      ]
    },
    {
      "cell_type": "code",
      "execution_count": 1,
      "id": "43b3edb9-34ff-40fe-aa06-5be75e84726d",
      "metadata": {
        "colab": {
          "base_uri": "https://localhost:8080/",
          "height": 388
        },
        "id": "43b3edb9-34ff-40fe-aa06-5be75e84726d",
        "outputId": "27c34b18-07d8-4259-9168-2f8ca8730e92"
      },
      "outputs": [
        {
          "output_type": "error",
          "ename": "ModuleNotFoundError",
          "evalue": "No module named 'llama_index'",
          "traceback": [
            "\u001b[0;31m---------------------------------------------------------------------------\u001b[0m",
            "\u001b[0;31mModuleNotFoundError\u001b[0m                       Traceback (most recent call last)",
            "\u001b[0;32m<ipython-input-1-df3823bc11ed>\u001b[0m in \u001b[0;36m<cell line: 1>\u001b[0;34m()\u001b[0m\n\u001b[0;32m----> 1\u001b[0;31m \u001b[0;32mfrom\u001b[0m \u001b[0mllama_index\u001b[0m\u001b[0;34m.\u001b[0m\u001b[0mcore\u001b[0m\u001b[0;34m.\u001b[0m\u001b[0mchat_engine\u001b[0m \u001b[0;32mimport\u001b[0m \u001b[0mSimpleChatEngine\u001b[0m\u001b[0;34m\u001b[0m\u001b[0;34m\u001b[0m\u001b[0m\n\u001b[0m\u001b[1;32m      2\u001b[0m \u001b[0;34m\u001b[0m\u001b[0m\n\u001b[1;32m      3\u001b[0m \u001b[0mchat_engine\u001b[0m \u001b[0;34m=\u001b[0m \u001b[0mSimpleChatEngine\u001b[0m\u001b[0;34m.\u001b[0m\u001b[0mfrom_defaults\u001b[0m\u001b[0;34m(\u001b[0m\u001b[0;34m)\u001b[0m\u001b[0;34m\u001b[0m\u001b[0;34m\u001b[0m\u001b[0m\n\u001b[1;32m      4\u001b[0m response = chat_engine.chat(\n\u001b[1;32m      5\u001b[0m     \u001b[0;34m\"Say something profound and romantic about fourth of July\"\u001b[0m\u001b[0;34m\u001b[0m\u001b[0;34m\u001b[0m\u001b[0m\n",
            "\u001b[0;31mModuleNotFoundError\u001b[0m: No module named 'llama_index'",
            "",
            "\u001b[0;31m---------------------------------------------------------------------------\u001b[0;32m\nNOTE: If your import is failing due to a missing package, you can\nmanually install dependencies using either !pip or !apt.\n\nTo view examples of installing some common dependencies, click the\n\"Open Examples\" button below.\n\u001b[0;31m---------------------------------------------------------------------------\u001b[0m\n"
          ],
          "errorDetails": {
            "actions": [
              {
                "action": "open_url",
                "actionText": "Open Examples",
                "url": "/notebooks/snippets/importing_libraries.ipynb"
              }
            ]
          }
        }
      ],
      "source": [
        "from llama_index.core.chat_engine import SimpleChatEngine\n",
        "\n",
        "chat_engine = SimpleChatEngine.from_defaults()\n",
        "response = chat_engine.chat(\n",
        "    \"Say something profound and romantic about fourth of July\"\n",
        ")\n",
        "print(response)"
      ]
    },
    {
      "cell_type": "markdown",
      "id": "c2d61b22-15fb-49e4-abdf-b4bb4c912725",
      "metadata": {
        "id": "c2d61b22-15fb-49e4-abdf-b4bb4c912725"
      },
      "source": [
        "## Shakespeare"
      ]
    },
    {
      "cell_type": "code",
      "execution_count": null,
      "id": "922652b3-5afd-4365-bc24-aa9a8db24eeb",
      "metadata": {
        "id": "922652b3-5afd-4365-bc24-aa9a8db24eeb",
        "outputId": "8ad45892-3b2b-4375-915e-c940b1f57973"
      },
      "outputs": [
        {
          "name": "stdout",
          "output_type": "stream",
          "text": [
            "\n",
            "O Fourth of July, a day of joy and mirth,\n",
            "Thou art a day of celebration on this blessed earth.\n",
            "A day of fireworks and revelry,\n",
            "A day of love and unity.\n",
            "Let us all come together and celebrate,\n",
            "For this day of freedom we do celebrate.\n"
          ]
        }
      ],
      "source": [
        "from llama_index.core.chat_engine import SimpleChatEngine\n",
        "from llama_index.core.prompts.system import SHAKESPEARE_WRITING_ASSISTANT\n",
        "\n",
        "chat_engine = SimpleChatEngine.from_defaults(\n",
        "    system_prompt=SHAKESPEARE_WRITING_ASSISTANT\n",
        ")\n",
        "response = chat_engine.chat(\n",
        "    \"Say something profound and romantic about fourth of July\"\n",
        ")\n",
        "print(response)"
      ]
    },
    {
      "cell_type": "markdown",
      "id": "2294b06b-ea83-460d-8513-158ca8172211",
      "metadata": {
        "id": "2294b06b-ea83-460d-8513-158ca8172211"
      },
      "source": [
        "## Marketing"
      ]
    },
    {
      "cell_type": "code",
      "execution_count": null,
      "id": "595b9b8a-03ee-4df7-a314-108dfabe7a9d",
      "metadata": {
        "id": "595b9b8a-03ee-4df7-a314-108dfabe7a9d",
        "outputId": "a3108b8c-ce34-4932-87d6-2ab1a165d61c"
      },
      "outputs": [
        {
          "name": "stdout",
          "output_type": "stream",
          "text": [
            " Fourth of July is a time to celebrate the freedom and independence of our nation. It's a time to reflect on the beauty of our country and the courage of those who fought for our freedom. It's a time to come together and appreciate the beauty of our nation and the people who make it so special.\n"
          ]
        }
      ],
      "source": [
        "from llama_index.core.chat_engine import SimpleChatEngine\n",
        "from llama_index.core.prompts.system import MARKETING_WRITING_ASSISTANT\n",
        "\n",
        "chat_engine = SimpleChatEngine.from_defaults(\n",
        "    system_prompt=MARKETING_WRITING_ASSISTANT\n",
        ")\n",
        "response = chat_engine.chat(\n",
        "    \"Say something profound and romantic about fourth of July\"\n",
        ")\n",
        "print(response)"
      ]
    },
    {
      "cell_type": "markdown",
      "id": "cf1c0f2c-2b47-4523-aa41-4e393203733a",
      "metadata": {
        "id": "cf1c0f2c-2b47-4523-aa41-4e393203733a"
      },
      "source": [
        "## IRS Tax"
      ]
    },
    {
      "cell_type": "code",
      "execution_count": null,
      "id": "ae0087e6-9da8-4404-9945-fff449e1a70d",
      "metadata": {
        "id": "ae0087e6-9da8-4404-9945-fff449e1a70d",
        "outputId": "9f6f0d29-06c4-4637-8149-df8331e40051"
      },
      "outputs": [
        {
          "name": "stdout",
          "output_type": "stream",
          "text": [
            " I'm sorry, I can only help with any tax-related questions you may have.\n"
          ]
        }
      ],
      "source": [
        "from llama_index.core.chat_engine import SimpleChatEngine\n",
        "from llama_index.core.prompts.system import IRS_TAX_CHATBOT\n",
        "\n",
        "chat_engine = SimpleChatEngine.from_defaults(system_prompt=IRS_TAX_CHATBOT)\n",
        "response = chat_engine.chat(\n",
        "    \"Say something profound and romantic about fourth of July\"\n",
        ")\n",
        "print(response)"
      ]
    }
  ],
  "metadata": {
    "kernelspec": {
      "display_name": "Python 3 (ipykernel)",
      "language": "python",
      "name": "python3"
    },
    "language_info": {
      "codemirror_mode": {
        "name": "ipython",
        "version": 3
      },
      "file_extension": ".py",
      "mimetype": "text/x-python",
      "name": "python",
      "nbconvert_exporter": "python",
      "pygments_lexer": "ipython3"
    },
    "colab": {
      "provenance": []
    }
  },
  "nbformat": 4,
  "nbformat_minor": 5
}